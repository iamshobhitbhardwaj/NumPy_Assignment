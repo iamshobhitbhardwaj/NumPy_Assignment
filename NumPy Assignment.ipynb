{
 "cells": [
  {
   "cell_type": "markdown",
   "id": "5b555b68-b363-4350-81be-e31b0dc4fbd0",
   "metadata": {},
   "source": [
    "Data Types & Attributes"
   ]
  },
  {
   "cell_type": "code",
   "execution_count": 1,
   "id": "4b32e1d1-f214-41be-9903-5cb7610317e3",
   "metadata": {},
   "outputs": [],
   "source": [
    "# 1. Create a NumPy array arr of integers from 0 to 5 and print its data type."
   ]
  },
  {
   "cell_type": "code",
   "execution_count": 1,
   "id": "422ba302-b1c9-497c-bcb0-cb81e7bc6cfd",
   "metadata": {},
   "outputs": [
    {
     "name": "stdout",
     "output_type": "stream",
     "text": [
      "[0 1 2 3 4 5] int32\n"
     ]
    }
   ],
   "source": [
    "import numpy as np\n",
    "\n",
    "arr = np.arange(6)\n",
    "print(arr, arr.dtype)"
   ]
  },
  {
   "cell_type": "code",
   "execution_count": 2,
   "id": "351b3c49-7ca6-4af7-9ff4-1bd6ef1d12d9",
   "metadata": {},
   "outputs": [],
   "source": [
    "# 2. Given a NumPy array arr, check if its data type is float64."
   ]
  },
  {
   "cell_type": "code",
   "execution_count": 3,
   "id": "aea5fbeb-2fcb-4d71-8a25-7a9cf569da45",
   "metadata": {},
   "outputs": [
    {
     "name": "stdout",
     "output_type": "stream",
     "text": [
      "data type is not float\n",
      "data type is float\n"
     ]
    }
   ],
   "source": [
    "import numpy as np\n",
    "\n",
    "arr = np.array([1, 2, 3, 4, 5])\n",
    "arr2 = np.array([1.0, 2.1, 3.2, 4.3, 5.4])\n",
    "print(\"data type is float\" if arr.dtype == np.float64 else \"data type is not float\")\n",
    "print(\"data type is float\" if arr2.dtype == np.float64 else \"data type is not float\")"
   ]
  },
  {
   "cell_type": "code",
   "execution_count": 3,
   "id": "dbffbb28-24fa-4635-baa0-fc63a476d77a",
   "metadata": {},
   "outputs": [],
   "source": [
    "# 3. Create a NumPy array arr with a data type of complex128 containing three complex numbers."
   ]
  },
  {
   "cell_type": "code",
   "execution_count": 5,
   "id": "7fe4dbd9-d0d6-4386-9ca0-c60b58bbd233",
   "metadata": {},
   "outputs": [
    {
     "name": "stdout",
     "output_type": "stream",
     "text": [
      "[  0. +1.j   2. +3.j -24.+20.j]\n"
     ]
    }
   ],
   "source": [
    "import numpy as np\n",
    "\n",
    "arr = np.array([1j, 2+3j, (4j)*(5+6j)], dtype=np.complex128)\n",
    "print(arr)"
   ]
  },
  {
   "cell_type": "code",
   "execution_count": 4,
   "id": "88230c9d-b81b-4fc0-b094-2db45c8760a1",
   "metadata": {},
   "outputs": [],
   "source": [
    "# 4. Convert an existing NumPy array arr of integers to float32 data type."
   ]
  },
  {
   "cell_type": "code",
   "execution_count": 6,
   "id": "0c7d8b6f-3291-4b71-a53f-d5fb2f35eeb9",
   "metadata": {},
   "outputs": [
    {
     "name": "stdout",
     "output_type": "stream",
     "text": [
      "[1. 2. 3. 4. 5.]\n"
     ]
    }
   ],
   "source": [
    "import numpy as np\n",
    "\n",
    "arr = np.array([1, 2, 3, 4, 5])\n",
    "float_arr = arr.astype(np.float32)\n",
    "print(float_arr)"
   ]
  },
  {
   "cell_type": "code",
   "execution_count": 5,
   "id": "08920441-26f5-4fc1-9c98-1a5179e14f9a",
   "metadata": {},
   "outputs": [],
   "source": [
    "# 5. Given a NumPy array arr with float64 data type, convert it to float32 to reduce decimal precision."
   ]
  },
  {
   "cell_type": "code",
   "execution_count": 9,
   "id": "fca78ddb-3dd9-4fcc-a82c-b03a6d05a5e8",
   "metadata": {},
   "outputs": [
    {
     "name": "stdout",
     "output_type": "stream",
     "text": [
      "[1.2345679 2.3456788 3.456789 ]\n"
     ]
    }
   ],
   "source": [
    "import numpy as np\n",
    "\n",
    "float64_arr = np.array([1.23456789, 2.34567891011, 3.456789101112], dtype=np.float64)\n",
    "float32_arr = float64_arr.astype(np.float32)\n",
    "print(float32_arr)"
   ]
  },
  {
   "cell_type": "code",
   "execution_count": 6,
   "id": "08d9c3d2-3ef5-44e1-8093-9f1323bce9c6",
   "metadata": {},
   "outputs": [],
   "source": [
    "# 6. Write a function array_attributes that takes a NumPy array as input and returns its shape, size, and data type."
   ]
  },
  {
   "cell_type": "code",
   "execution_count": 10,
   "id": "a9124b12-d88c-4f9b-b3c9-ecc3ab845897",
   "metadata": {},
   "outputs": [
    {
     "name": "stdout",
     "output_type": "stream",
     "text": [
      "((3, 3), 9, dtype('int32'))\n"
     ]
    }
   ],
   "source": [
    "import numpy as np\n",
    "\n",
    "def array_attributes(arr):\n",
    "    return arr.shape, arr.size, arr.dtype\n",
    "\n",
    "arr = np.array([[1, 2, 3], [4, 5, 6], [7, 8, 9]])\n",
    "result = array_attributes(arr)\n",
    "print(result)"
   ]
  },
  {
   "cell_type": "code",
   "execution_count": 7,
   "id": "f8dbf8fc-73a6-4e41-9730-894ff72a0dfd",
   "metadata": {},
   "outputs": [],
   "source": [
    "# 7. Create a function array_dimension that returns the dimensionality of a NumPy array."
   ]
  },
  {
   "cell_type": "code",
   "execution_count": 12,
   "id": "d271c615-9dc3-487b-b310-1fd281e096a0",
   "metadata": {},
   "outputs": [
    {
     "name": "stdout",
     "output_type": "stream",
     "text": [
      "3\n"
     ]
    }
   ],
   "source": [
    "import numpy as np\n",
    "\n",
    "def array_dimension(arr):\n",
    "    return arr.ndim\n",
    "\n",
    "arr = np.array([[[1, 2, 3], [4, 5, 6], [7, 8, 9]]])\n",
    "result = array_dimension(arr)\n",
    "print(result)"
   ]
  },
  {
   "cell_type": "code",
   "execution_count": 8,
   "id": "c9109021-784b-4961-9f7d-bcac3313bce1",
   "metadata": {},
   "outputs": [],
   "source": [
    "# 8. Design a function item_size_info that returns the item size and total size in bytes of a NumPy array."
   ]
  },
  {
   "cell_type": "code",
   "execution_count": 13,
   "id": "ab07bf61-7817-4afd-974f-266fe4910583",
   "metadata": {},
   "outputs": [
    {
     "name": "stdout",
     "output_type": "stream",
     "text": [
      "4 36\n"
     ]
    }
   ],
   "source": [
    "import numpy as np\n",
    "\n",
    "def item_size_info(arr):\n",
    "    return arr.itemsize, arr.nbytes\n",
    "\n",
    "arr = np.array([[[1, 2, 3], [4, 5, 6], [7, 8, 9]]])\n",
    "item_size, total_size = item_size_info(arr)\n",
    "print(item_size, total_size)"
   ]
  },
  {
   "cell_type": "code",
   "execution_count": 9,
   "id": "08c25bf8-0a09-4cc0-a705-f9e9ebb6025f",
   "metadata": {},
   "outputs": [],
   "source": [
    "# 9. Create a function array_strides that returns the strides of the given NumPy array."
   ]
  },
  {
   "cell_type": "code",
   "execution_count": 14,
   "id": "ef8a9817-d9c6-4cda-941c-e8b346fdbf13",
   "metadata": {},
   "outputs": [
    {
     "name": "stdout",
     "output_type": "stream",
     "text": [
      "(36, 12, 4)\n"
     ]
    }
   ],
   "source": [
    "import numpy as np\n",
    "\n",
    "def array_strides(arr):\n",
    "    return arr.strides\n",
    "\n",
    "arr = np.array([[[1, 2, 3], [4, 5, 6], [7, 8, 9]]])\n",
    "result = array_strides(arr)\n",
    "print(result)"
   ]
  },
  {
   "cell_type": "code",
   "execution_count": 10,
   "id": "e2d60bf0-4122-432e-a744-07d4fa6123c5",
   "metadata": {},
   "outputs": [],
   "source": [
    "# 10. Design a function shape_stride_relationship that returns the shape and strides of the given array."
   ]
  },
  {
   "cell_type": "code",
   "execution_count": 15,
   "id": "47484235-0433-476d-9560-e986008ec827",
   "metadata": {},
   "outputs": [
    {
     "name": "stdout",
     "output_type": "stream",
     "text": [
      "(1, 3, 3) (36, 12, 4)\n"
     ]
    }
   ],
   "source": [
    "import numpy as np\n",
    "\n",
    "def shape_stride_relationship(arr):\n",
    "    return arr.shape, arr.strides\n",
    "\n",
    "arr = np.array([[[1, 2, 3], [4, 5, 6], [7, 8, 9]]])\n",
    "shape, strides = shape_stride_relationship(arr)\n",
    "print(shape, strides)"
   ]
  },
  {
   "cell_type": "markdown",
   "id": "9ed32849-8c23-454f-a971-58f3f11aa91a",
   "metadata": {},
   "source": [
    "Array Creation"
   ]
  },
  {
   "cell_type": "code",
   "execution_count": 11,
   "id": "a04813ee-ba1f-4c28-91af-b5022a473b4b",
   "metadata": {},
   "outputs": [],
   "source": [
    "# 11. Create a function create_zeros_array(n) to return a NumPy array of zeros with n elements."
   ]
  },
  {
   "cell_type": "code",
   "execution_count": 16,
   "id": "69f72c3e-dc6b-492d-abea-74aafb6686df",
   "metadata": {},
   "outputs": [
    {
     "name": "stdout",
     "output_type": "stream",
     "text": [
      "[0. 0. 0. 0. 0. 0. 0. 0. 0.]\n"
     ]
    }
   ],
   "source": [
    "import numpy as np\n",
    "\n",
    "def create_zeros_array(n):\n",
    "    return np.zeros(n)\n",
    "\n",
    "arr = create_zeros_array(9)\n",
    "print(arr)"
   ]
  },
  {
   "cell_type": "code",
   "execution_count": 12,
   "id": "eee48ed4-87c9-47bd-9170-4ffc6954ca4e",
   "metadata": {},
   "outputs": [],
   "source": [
    "# 12. Write a function create_ones_matrix(rows, cols) to create a 2D array filled with ones."
   ]
  },
  {
   "cell_type": "code",
   "execution_count": 17,
   "id": "2d22cdba-c760-4355-9ede-a5c50f7c702e",
   "metadata": {},
   "outputs": [
    {
     "name": "stdout",
     "output_type": "stream",
     "text": [
      "[[1. 1.]\n",
      " [1. 1.]]\n"
     ]
    }
   ],
   "source": [
    "import numpy as np\n",
    "\n",
    "def create_ones_matrix(rows, cols):\n",
    "    return np.ones((rows, cols))\n",
    "\n",
    "matrix = create_ones_matrix(2, 2)\n",
    "print(matrix)"
   ]
  },
  {
   "cell_type": "code",
   "execution_count": 13,
   "id": "67a6861e-941b-44a5-b0f7-58da033f02b4",
   "metadata": {},
   "outputs": [],
   "source": [
    "# 13. Write a function generate_range_array(start, stop, step) to create a ranged NumPy array."
   ]
  },
  {
   "cell_type": "code",
   "execution_count": 18,
   "id": "a42303f8-cdb4-4e4e-9d5d-4b0cf5355962",
   "metadata": {},
   "outputs": [
    {
     "name": "stdout",
     "output_type": "stream",
     "text": [
      "[ 1  4  7 10 13 16 19]\n"
     ]
    }
   ],
   "source": [
    "import numpy as np\n",
    "\n",
    "def generate_range_array(start, stop, step):\n",
    "    return np.arange(start, stop, step)\n",
    "\n",
    "arr = generate_range_array(1, 21, 3)\n",
    "print(arr)"
   ]
  },
  {
   "cell_type": "code",
   "execution_count": 14,
   "id": "a8187940-2ca6-449e-a57a-04f221d19769",
   "metadata": {},
   "outputs": [],
   "source": [
    "# 14. Design a function generate_linear_space(start, stop, num) for equally spaced values."
   ]
  },
  {
   "cell_type": "code",
   "execution_count": 21,
   "id": "d325236a-8462-42cb-97c1-5d3d641c5fa2",
   "metadata": {},
   "outputs": [
    {
     "name": "stdout",
     "output_type": "stream",
     "text": [
      "[ 0.          0.52631579  1.05263158  1.57894737  2.10526316  2.63157895\n",
      "  3.15789474  3.68421053  4.21052632  4.73684211  5.26315789  5.78947368\n",
      "  6.31578947  6.84210526  7.36842105  7.89473684  8.42105263  8.94736842\n",
      "  9.47368421 10.        ]\n"
     ]
    }
   ],
   "source": [
    "import numpy as np\n",
    "\n",
    "def generate_linear_space(start, stop, num):\n",
    "    return np.linspace(start, stop, num)\n",
    "\n",
    "arr = generate_linear_space(0, 10, 20)\n",
    "print(arr)"
   ]
  },
  {
   "cell_type": "code",
   "execution_count": 15,
   "id": "6ed5d600-2aad-477b-9616-e1b81b28b19b",
   "metadata": {},
   "outputs": [],
   "source": [
    "# 15. Create a function create_identity_matrix(n) using numpy.eye."
   ]
  },
  {
   "cell_type": "code",
   "execution_count": 22,
   "id": "2e972f31-0617-46d0-b821-6345e4171aa0",
   "metadata": {},
   "outputs": [
    {
     "name": "stdout",
     "output_type": "stream",
     "text": [
      "[[1. 0. 0.]\n",
      " [0. 1. 0.]\n",
      " [0. 0. 1.]]\n"
     ]
    }
   ],
   "source": [
    "import numpy as np\n",
    "\n",
    "def create_identity_matrix(n):\n",
    "    return np.eye(n)\n",
    "\n",
    "matrix = create_identity_matrix(3)\n",
    "print(matrix)"
   ]
  },
  {
   "cell_type": "code",
   "execution_count": 16,
   "id": "2cc26edf-4937-4b4f-b642-7a9d36f60234",
   "metadata": {},
   "outputs": [],
   "source": [
    "# 16. Write a function that converts a Python list into a NumPy array."
   ]
  },
  {
   "cell_type": "code",
   "execution_count": 26,
   "id": "4478f2d1-1d6f-4d7f-ac2f-c6631ff3591a",
   "metadata": {},
   "outputs": [
    {
     "name": "stdout",
     "output_type": "stream",
     "text": [
      "[1 2 3 4 5] <class 'numpy.ndarray'>\n"
     ]
    }
   ],
   "source": [
    "import numpy as np\n",
    "\n",
    "def convert_list_into_a_numpy_array(lst):\n",
    "    return np.array(lst)\n",
    "\n",
    "lst = [1, 2, 3, 4, 5]\n",
    "arr = convert_list_into_a_numpy_array(lst)\n",
    "print(arr, type(arr))"
   ]
  },
  {
   "cell_type": "code",
   "execution_count": 17,
   "id": "1e4c5c42-041d-42d6-ac9d-7c08d299a697",
   "metadata": {},
   "outputs": [],
   "source": [
    "# 17. Create a NumPy array and use numpy.view() to create a new view with the same data."
   ]
  },
  {
   "cell_type": "code",
   "execution_count": 27,
   "id": "401e954a-a35e-49fa-983c-73222606811a",
   "metadata": {},
   "outputs": [
    {
     "name": "stdout",
     "output_type": "stream",
     "text": [
      "[1 2 3 4 5]\n"
     ]
    }
   ],
   "source": [
    "import numpy as np\n",
    "\n",
    "arr = np.array([1, 2, 3, 4, 5])\n",
    "arr_view = arr.view()\n",
    "print(arr_view)"
   ]
  },
  {
   "cell_type": "markdown",
   "id": "f9e4de6e-78db-4ad9-9af7-5ba55b5a5490",
   "metadata": {},
   "source": [
    "Concatenation and Stacking"
   ]
  },
  {
   "cell_type": "code",
   "execution_count": 18,
   "id": "a14bad31-94c2-43ce-8ff1-d0584da6e6f9",
   "metadata": {},
   "outputs": [],
   "source": [
    "# 18. Write a function to concatenate two NumPy arrays along a specified axis."
   ]
  },
  {
   "cell_type": "code",
   "execution_count": 34,
   "id": "0ce2b578-b93c-4280-a1a4-f10063ef2670",
   "metadata": {},
   "outputs": [
    {
     "name": "stdout",
     "output_type": "stream",
     "text": [
      "[[1 2]\n",
      " [3 4]\n",
      " [5 6]\n",
      " [7 8]] \n",
      "\n",
      " [[1 2 5 6]\n",
      " [3 4 7 8]]\n"
     ]
    }
   ],
   "source": [
    "import numpy as np\n",
    "\n",
    "def concatenate_two_numpy_arrays(arr, arr2, axis_value):\n",
    "    return np.concatenate((arr, arr2), axis=axis_value)\n",
    "\n",
    "arr = np.array([[1, 2], [3, 4]])\n",
    "arr2 = np.array([[5, 6], [7, 8]])\n",
    "result_axis_0 = concatenate_two_numpy_arrays(arr, arr2, 0)\n",
    "result_axis_1 = concatenate_two_numpy_arrays(arr, arr2, 1)\n",
    "print(result_axis_0, '\\n\\n', result_axis_1)"
   ]
  },
  {
   "cell_type": "code",
   "execution_count": 19,
   "id": "bd54b79f-e7c9-4930-a2d0-1527882ad2ba",
   "metadata": {},
   "outputs": [],
   "source": [
    "# 19. Concatenate two arrays with different shapes horizontally using numpy.concatenate."
   ]
  },
  {
   "cell_type": "code",
   "execution_count": 37,
   "id": "318747be-64cb-46ad-a710-aeabb15a6c29",
   "metadata": {},
   "outputs": [
    {
     "name": "stdout",
     "output_type": "stream",
     "text": [
      "[[1 3 2 4]\n",
      " [5 7 6 8]]\n"
     ]
    }
   ],
   "source": [
    "import numpy as np\n",
    "\n",
    "arr = np.array([[1, 3], [5, 7]])\n",
    "arr2 = np.array([[2, 4], [6, 8]])\n",
    "result = np.concatenate((arr, arr2), axis=1)\n",
    "print(result)"
   ]
  },
  {
   "cell_type": "code",
   "execution_count": 20,
   "id": "35a2d4cc-ccf1-4851-9acc-f03107fbed6a",
   "metadata": {},
   "outputs": [],
   "source": [
    "# 20. Vertically stack multiple arrays from a list using numpy.vstack."
   ]
  },
  {
   "cell_type": "code",
   "execution_count": 39,
   "id": "baad812f-bab5-4cd0-bd06-e4ac63be8f9d",
   "metadata": {},
   "outputs": [
    {
     "name": "stdout",
     "output_type": "stream",
     "text": [
      "[[1 2]\n",
      " [3 4]\n",
      " [5 6]\n",
      " [7 8]\n",
      " [9 0]]\n"
     ]
    }
   ],
   "source": [
    "import numpy as np\n",
    "\n",
    "arrs = [np.array([1, 2]), np.array([3, 4]), np.array([5, 6]), np.array([7, 8]), np.array([9, 0])]\n",
    "result = np.vstack(arrs)\n",
    "print(result)"
   ]
  },
  {
   "cell_type": "markdown",
   "id": "036f089d-0e11-4cec-97e4-4570d4c67625",
   "metadata": {},
   "source": [
    "Array Generation"
   ]
  },
  {
   "cell_type": "code",
   "execution_count": 21,
   "id": "32e8748f-9d9a-4782-ba87-e4598973245c",
   "metadata": {},
   "outputs": [],
   "source": [
    "# 21. Write a function to generate an array of integers within a specified range (inclusive) with a step."
   ]
  },
  {
   "cell_type": "code",
   "execution_count": 40,
   "id": "b7634090-afbf-47f2-a506-242fb09d7043",
   "metadata": {},
   "outputs": [
    {
     "name": "stdout",
     "output_type": "stream",
     "text": [
      "[1]\n"
     ]
    }
   ],
   "source": [
    "import numpy as np\n",
    "\n",
    "def generate_an_array_of_integers_within_a_range(start, stop, step=1):\n",
    "    return np.arange(start, stop + (1 if step > 0 else -1), step)\n",
    "\n",
    "arr = generate_integer_range(1, 10, 20)\n",
    "print(arr)"
   ]
  },
  {
   "cell_type": "code",
   "execution_count": 22,
   "id": "e8bdedc8-0b25-44f4-a916-02f1fbe3f6ef",
   "metadata": {},
   "outputs": [],
   "source": [
    "# 22. Generate 10 equally spaced values between 0 and 1 using NumPy."
   ]
  },
  {
   "cell_type": "code",
   "execution_count": 42,
   "id": "13f22427-7fa8-4036-af3b-ac7b4fd9576d",
   "metadata": {},
   "outputs": [
    {
     "name": "stdout",
     "output_type": "stream",
     "text": [
      "[0.         0.11111111 0.22222222 0.33333333 0.44444444 0.55555556\n",
      " 0.66666667 0.77777778 0.88888889 1.        ]\n"
     ]
    }
   ],
   "source": [
    "import numpy as np\n",
    "\n",
    "arr = np.linspace(0, 1, 10)\n",
    "print(arr)"
   ]
  },
  {
   "cell_type": "code",
   "execution_count": 23,
   "id": "b995e87a-3419-488b-b74d-05b96d1b7f35",
   "metadata": {},
   "outputs": [],
   "source": [
    "# 23. Create 5 logarithmically spaced values between 1 and 1000."
   ]
  },
  {
   "cell_type": "code",
   "execution_count": 3,
   "id": "3141b67d-d7a0-4984-ad87-810640246e78",
   "metadata": {},
   "outputs": [
    {
     "name": "stdout",
     "output_type": "stream",
     "text": [
      "[   1.            5.62341325   31.6227766   177.827941   1000.        ]\n"
     ]
    }
   ],
   "source": [
    "import numpy as np\n",
    "\n",
    "arr = np.logspace(0, 3, 5)\n",
    "print(arr)"
   ]
  },
  {
   "cell_type": "markdown",
   "id": "6262cc56-fedf-45d3-a62b-f70276da5eef",
   "metadata": {},
   "source": [
    "Pandas + NumPy"
   ]
  },
  {
   "cell_type": "code",
   "execution_count": 24,
   "id": "705db8cc-379e-41f4-af6b-a6dd5b4706ec",
   "metadata": {},
   "outputs": [],
   "source": [
    "# 24. Create a Pandas DataFrame from a NumPy array with 5 rows and 3 columns of random integers (1-100)."
   ]
  },
  {
   "cell_type": "code",
   "execution_count": 5,
   "id": "94284ec5-acf8-4b6b-af59-8e7cc0fb2646",
   "metadata": {},
   "outputs": [
    {
     "name": "stdout",
     "output_type": "stream",
     "text": [
      "    1   2   3\n",
      "0  60  95  30\n",
      "1  16  89  78\n",
      "2  77  81  85\n",
      "3  13  59  37\n",
      "4  64  27  51\n"
     ]
    }
   ],
   "source": [
    "import numpy as np\n",
    "import pandas as pd\n",
    "\n",
    "arr = np.random.randint(1, 101, size=(5, 3))\n",
    "df = pd.DataFrame(arr, columns=[1, 2, 3])\n",
    "print(df)"
   ]
  },
  {
   "cell_type": "code",
   "execution_count": 25,
   "id": "b5c54dd0-19e8-4b6e-a016-5d9cc5474559",
   "metadata": {},
   "outputs": [],
   "source": [
    "# 25. Write a function to replace all negative values in a specific column with zeros using NumPy."
   ]
  },
  {
   "cell_type": "code",
   "execution_count": 8,
   "id": "5c3b6473-90b9-451a-8b70-c0d01b99dbe4",
   "metadata": {},
   "outputs": [
    {
     "name": "stdout",
     "output_type": "stream",
     "text": [
      "[[-1  2 -3]\n",
      " [ 4  0  6]\n",
      " [-7  0  9]]\n"
     ]
    }
   ],
   "source": [
    "import numpy as np\n",
    "\n",
    "def replace__all_negative_values_with_zeros(arr, indx):\n",
    "    arr[:, indx] = np.where(arr[:, indx] < 0, 0, arr[:, indx])\n",
    "    return arr\n",
    "\n",
    "arr = np.array([[-1, 2, -3],[4, -5, 6],[-7, -8, 9]])\n",
    "result = replace__all_negative_values_with_zeros(arr, 1)\n",
    "print(result)"
   ]
  },
  {
   "cell_type": "markdown",
   "id": "2b1c7607-16ad-4e14-9bee-80b2ac1f98aa",
   "metadata": {},
   "source": [
    "Indexing and Slicing"
   ]
  },
  {
   "cell_type": "code",
   "execution_count": 26,
   "id": "9ad3fc23-f7b2-4532-a78d-a1ef379c0f15",
   "metadata": {},
   "outputs": [],
   "source": [
    "# 26. Access the 3rd element from the given NumPy array."
   ]
  },
  {
   "cell_type": "code",
   "execution_count": 9,
   "id": "880030a9-7dd8-4a99-a618-b7b629d86398",
   "metadata": {},
   "outputs": [
    {
     "name": "stdout",
     "output_type": "stream",
     "text": [
      "3\n"
     ]
    }
   ],
   "source": [
    "import numpy as np\n",
    "\n",
    "arr = np.array([1, 2, 3, 4, 5])\n",
    "print(arr[2])"
   ]
  },
  {
   "cell_type": "code",
   "execution_count": 27,
   "id": "13594496-a7a8-4729-a5ac-fc7b49294b51",
   "metadata": {},
   "outputs": [],
   "source": [
    "# 27. Retrieve the element at index (1, 2) from a 2D array."
   ]
  },
  {
   "cell_type": "code",
   "execution_count": 10,
   "id": "bc1d0d35-428e-491b-852b-1fc8ace062b2",
   "metadata": {},
   "outputs": [
    {
     "name": "stdout",
     "output_type": "stream",
     "text": [
      "60\n"
     ]
    }
   ],
   "source": [
    "import numpy as np\n",
    "\n",
    "arr = np.array([[10, 20, 30], [40, 50, 60], [70, 80, 90]])\n",
    "print(arr[1, 2])"
   ]
  },
  {
   "cell_type": "code",
   "execution_count": 28,
   "id": "834e2c8e-60f9-403b-9f79-604a903ddeb8",
   "metadata": {},
   "outputs": [],
   "source": [
    "# 28. Extract elements greater than 5 using boolean indexing."
   ]
  },
  {
   "cell_type": "code",
   "execution_count": 11,
   "id": "36be0025-c19e-4537-834a-f512db4d7d0d",
   "metadata": {},
   "outputs": [
    {
     "name": "stdout",
     "output_type": "stream",
     "text": [
      "[6 7 8 9]\n"
     ]
    }
   ],
   "source": [
    "import numpy as np\n",
    "\n",
    "arr = np.array([1, 2, 3, 4, 5, 6, 7, 8, 9, 0])\n",
    "print(arr[arr > 5])"
   ]
  },
  {
   "cell_type": "code",
   "execution_count": 31,
   "id": "cfa552d0-d783-40b1-90be-f6d0c5c78598",
   "metadata": {},
   "outputs": [],
   "source": [
    "# 29. Slice elements from index 2 to 5 (inclusive) from a NumPy array."
   ]
  },
  {
   "cell_type": "code",
   "execution_count": 12,
   "id": "71926c1c-f2c6-4cc3-a127-bd9011cd4122",
   "metadata": {},
   "outputs": [
    {
     "name": "stdout",
     "output_type": "stream",
     "text": [
      "[3 4 5 6]\n"
     ]
    }
   ],
   "source": [
    "import numpy as np\n",
    "\n",
    "arr = np.array([1, 2, 3, 4, 5, 6, 7, 8, 9, 0])\n",
    "print(arr[2:6])"
   ]
  },
  {
   "cell_type": "code",
   "execution_count": 32,
   "id": "edec5ef5-66b3-4868-b286-26bd0bedf0eb",
   "metadata": {},
   "outputs": [],
   "source": [
    "# 30. Slice the sub-array [[2, 3], [5, 6]] from a 2D array."
   ]
  },
  {
   "cell_type": "code",
   "execution_count": 14,
   "id": "5133d311-0c35-41d2-857b-0f4683d6afeb",
   "metadata": {},
   "outputs": [
    {
     "name": "stdout",
     "output_type": "stream",
     "text": [
      "[[2 3]\n",
      " [5 6]]\n"
     ]
    }
   ],
   "source": [
    "import numpy as np\n",
    "\n",
    "arr = np.array([[1, 2, 3],[4, 5, 6],[7, 8, 9,]])\n",
    "print(arr[0:2, 1:3])"
   ]
  },
  {
   "cell_type": "markdown",
   "id": "d0de8c47-b241-489c-80ee-53df8bc19e83",
   "metadata": {},
   "source": [
    "Advanced Indexing\n"
   ]
  },
  {
   "cell_type": "code",
   "execution_count": 33,
   "id": "2efea50a-2f2c-4239-aff5-2ed04838b417",
   "metadata": {},
   "outputs": [],
   "source": [
    "# 31. Extract elements based on indices from a 2D array."
   ]
  },
  {
   "cell_type": "code",
   "execution_count": 18,
   "id": "b51ce4dd-9a74-42a1-8bb6-59abba321202",
   "metadata": {},
   "outputs": [
    {
     "name": "stdout",
     "output_type": "stream",
     "text": [
      "[1 6 0]\n"
     ]
    }
   ],
   "source": [
    "import numpy as np\n",
    "\n",
    "arr = np.array([[1, 2, 3, 0], [4, 5, 6, 0], [7, 8, 9, 0], [10, 11, 12, 0]])\n",
    "print(arr[np.array([0, 1, 3]), np.array([0, 2, 3])])"
   ]
  },
  {
   "cell_type": "code",
   "execution_count": 34,
   "id": "7042514c-6143-44e6-8fe4-54be742943ea",
   "metadata": {},
   "outputs": [],
   "source": [
    "# 32. Filter elements greater than a threshold using boolean indexing."
   ]
  },
  {
   "cell_type": "code",
   "execution_count": 19,
   "id": "16bcc14d-289c-4178-997e-7ce1d143f9ba",
   "metadata": {},
   "outputs": [
    {
     "name": "stdout",
     "output_type": "stream",
     "text": [
      "[6 7 8 9]\n"
     ]
    }
   ],
   "source": [
    "import numpy as np\n",
    "\n",
    "arr = np.array([1, 2, 3, 4, 5, 6, 7, 8, 9, 0])\n",
    "print(arr[arr > 5])"
   ]
  },
  {
   "cell_type": "code",
   "execution_count": 35,
   "id": "ce8b4b70-b7c4-4fc4-a1af-67a67fe9851f",
   "metadata": {},
   "outputs": [],
   "source": [
    "# 33. Extract specific elements from a 3D array using separate index arrays."
   ]
  },
  {
   "cell_type": "code",
   "execution_count": 25,
   "id": "98160145-a484-4365-ae0b-a587c23e5062",
   "metadata": {},
   "outputs": [
    {
     "name": "stdout",
     "output_type": "stream",
     "text": [
      "[ 1 19]\n"
     ]
    }
   ],
   "source": [
    "import numpy as np\n",
    "\n",
    "arr = np.array([[[1, 2, 3, 0], [4, 5, 6, 0], [7, 8, 9, 0]], [[11, 12, 13, 10], [14, 15, 16, 10], [17, 18, 19, 10]]])\n",
    "print(arr[np.array([0, 1]), np.array([0, 2]), np.array([0, 2])])"
   ]
  },
  {
   "cell_type": "code",
   "execution_count": 36,
   "id": "3d25bb62-b275-4ef0-909c-98dee97240b6",
   "metadata": {},
   "outputs": [],
   "source": [
    "# 34. Return elements satisfying two boolean conditions."
   ]
  },
  {
   "cell_type": "code",
   "execution_count": 26,
   "id": "60d35431-fd0e-43c0-aea8-77569afd8d0d",
   "metadata": {},
   "outputs": [
    {
     "name": "stdout",
     "output_type": "stream",
     "text": [
      "[2 3 4 5 6]\n"
     ]
    }
   ],
   "source": [
    "import numpy as np\n",
    "\n",
    "arr = np.array([1, 2, 3, 4, 5, 6, 7, 8, 9, 0])\n",
    "print(arr[(arr > 1) & (arr < 7)])"
   ]
  },
  {
   "cell_type": "code",
   "execution_count": 37,
   "id": "84239e21-de99-4d62-8902-17ff3522d59c",
   "metadata": {},
   "outputs": [],
   "source": [
    "# 35. Extract elements from a 2D array using separate row and column index arrays."
   ]
  },
  {
   "cell_type": "code",
   "execution_count": 27,
   "id": "36c5b3aa-9d69-40c2-aa9e-6b4650b56262",
   "metadata": {},
   "outputs": [
    {
     "name": "stdout",
     "output_type": "stream",
     "text": [
      "[3 5 7]\n"
     ]
    }
   ],
   "source": [
    "import numpy as np\n",
    "\n",
    "arr = np.array([[1, 2, 3],[4, 5, 6],[7, 8, 9]])\n",
    "print(arr[np.array([0, 1, 2]), np.array([2, 1, 0])])"
   ]
  },
  {
   "cell_type": "markdown",
   "id": "361fb150-6113-45fa-9779-a3528771d7c3",
   "metadata": {},
   "source": [
    "Broadcasting"
   ]
  },
  {
   "cell_type": "code",
   "execution_count": 38,
   "id": "b4ad481b-bd4b-43cd-98ed-f1120fa9fb61",
   "metadata": {},
   "outputs": [],
   "source": [
    "# 36. Add scalar 5 to every element of an array using broadcasting."
   ]
  },
  {
   "cell_type": "code",
   "execution_count": 28,
   "id": "05601209-f5ab-474e-8d9a-fefaa2a70858",
   "metadata": {},
   "outputs": [
    {
     "name": "stdout",
     "output_type": "stream",
     "text": [
      "[[ 6  7  8]\n",
      " [ 9 10 11]\n",
      " [12 13 14]]\n"
     ]
    }
   ],
   "source": [
    "import numpy as np\n",
    "\n",
    "arr = np.array([[1, 2, 3], [4, 5, 6], [7, 8,  9]])\n",
    "print(5 + arr)"
   ]
  },
  {
   "cell_type": "code",
   "execution_count": 39,
   "id": "93d45260-c892-4f85-861b-776500b171e5",
   "metadata": {},
   "outputs": [],
   "source": [
    "# 37. Multiply each row of a (3, 4) array by corresponding elements of a (1, 3) array."
   ]
  },
  {
   "cell_type": "code",
   "execution_count": 39,
   "id": "11e231c9-8562-479b-9488-84a284e2ff51",
   "metadata": {},
   "outputs": [
    {
     "name": "stdout",
     "output_type": "stream",
     "text": [
      "[[ 1  2  3  0]\n",
      " [ 8 10 12  0]\n",
      " [21 24 27  0]]\n"
     ]
    }
   ],
   "source": [
    "import numpy as np\n",
    "\n",
    "arr = np.array([[1, 2, 3, 0], [4, 5, 6, 0], [7, 8, 9, 0]])\n",
    "print(np.array([[1], [2], [3]]) * arr)"
   ]
  },
  {
   "cell_type": "code",
   "execution_count": 40,
   "id": "661138e3-0040-45e6-a935-2f13e140d807",
   "metadata": {},
   "outputs": [],
   "source": [
    "# 38. Add a (1, 4) array to every row of a (4, 3) array using broadcasting."
   ]
  },
  {
   "cell_type": "code",
   "execution_count": 40,
   "id": "77e75c54-2bd4-45dd-bfaf-95668902b8a9",
   "metadata": {},
   "outputs": [
    {
     "name": "stdout",
     "output_type": "stream",
     "text": [
      "[[ 2  3  4]\n",
      " [ 6  7  8]\n",
      " [10 11 12]\n",
      " [14 15 16]]\n"
     ]
    }
   ],
   "source": [
    "import numpy as np\n",
    "\n",
    "arr = np.array([[1, 2, 3], [4, 5, 6], [7, 8, 9], [10, 11, 12]])\n",
    "print(np.array([[1, 2, 3, 4]]).transpose() + arr)"
   ]
  },
  {
   "cell_type": "code",
   "execution_count": 41,
   "id": "3be50902-b0df-449b-a312-7d5449b5c8cd",
   "metadata": {},
   "outputs": [],
   "source": [
    "# 39. Add two arrays of shapes (3, 1) and (1, 3) using broadcasting."
   ]
  },
  {
   "cell_type": "code",
   "execution_count": 41,
   "id": "99f47ced-738f-4f4f-9a75-a0a8ece3617f",
   "metadata": {},
   "outputs": [
    {
     "name": "stdout",
     "output_type": "stream",
     "text": [
      "[[ 8  9 10]\n",
      " [ 9 10 11]\n",
      " [10 11 12]]\n"
     ]
    }
   ],
   "source": [
    "import numpy as np\n",
    "\n",
    "arr = np.array([[1], [2], [3]])\n",
    "arr2 = np.array([[7, 8, 9]])\n",
    "print(arr + arr2)"
   ]
  },
  {
   "cell_type": "code",
   "execution_count": 42,
   "id": "f5496372-b03f-4bbf-a00f-e3c5681f2446",
   "metadata": {},
   "outputs": [],
   "source": [
    "# 40. Handle shape incompatibility during multiplication between (2, 3) and (2, 2) arrays."
   ]
  },
  {
   "cell_type": "code",
   "execution_count": 47,
   "id": "c9daab4d-d02a-43a8-a24a-acad8a86a2a4",
   "metadata": {},
   "outputs": [
    {
     "name": "stdout",
     "output_type": "stream",
     "text": [
      "[[39 54 69]\n",
      " [ 9 18 27]]\n"
     ]
    }
   ],
   "source": [
    "import numpy as np\n",
    "\n",
    "arr = np.array([[1, 2, 3], [4, 5, 6]])\n",
    "arr2 = np.array([[7, 8], [9, 0]])\n",
    "print(np.dot(arr2, arr))"
   ]
  },
  {
   "cell_type": "markdown",
   "id": "28ba608e-5e07-4c46-87a7-3e49d297cfd9",
   "metadata": {},
   "source": [
    "Aggregations and Statistics"
   ]
  },
  {
   "cell_type": "code",
   "execution_count": 43,
   "id": "09f65c31-dd03-450e-8f49-519e820fbc06",
   "metadata": {},
   "outputs": [],
   "source": [
    "# 41. Calculate column-wise mean of a 2D array."
   ]
  },
  {
   "cell_type": "code",
   "execution_count": 48,
   "id": "4c00f895-f6ef-4dc1-85f4-66d6049c00aa",
   "metadata": {},
   "outputs": [
    {
     "name": "stdout",
     "output_type": "stream",
     "text": [
      "[4. 5. 6.]\n"
     ]
    }
   ],
   "source": [
    "import numpy as np\n",
    "\n",
    "arr = np.array([[1, 2, 3], [4, 5, 6], [7, 8, 9]])\n",
    "print(np.mean(arr, axis=0))"
   ]
  },
  {
   "cell_type": "code",
   "execution_count": 44,
   "id": "9eda4823-5816-418a-bcca-5b46cacce636",
   "metadata": {},
   "outputs": [],
   "source": [
    "# 42. Find maximum value in each row."
   ]
  },
  {
   "cell_type": "code",
   "execution_count": 49,
   "id": "44b111d6-b40d-4ee8-b1b1-da574e8d6e92",
   "metadata": {},
   "outputs": [
    {
     "name": "stdout",
     "output_type": "stream",
     "text": [
      "[5 9 8]\n"
     ]
    }
   ],
   "source": [
    "import numpy as np\n",
    "\n",
    "arr = np.array([[1, 5, 2], [9, 3, 6], [7, 4, 8]])\n",
    "print(np.max(arr, axis=1))"
   ]
  },
  {
   "cell_type": "code",
   "execution_count": 45,
   "id": "e74d109d-4dfa-4496-8299-dc26dfbdccd6",
   "metadata": {},
   "outputs": [],
   "source": [
    "# 43. Find indices of maximum values in each column."
   ]
  },
  {
   "cell_type": "code",
   "execution_count": 52,
   "id": "9eb3dc5b-08af-4ff5-b504-74e9526a06f1",
   "metadata": {},
   "outputs": [
    {
     "name": "stdout",
     "output_type": "stream",
     "text": [
      "[1 0 2]\n"
     ]
    }
   ],
   "source": [
    "import numpy as np\n",
    "\n",
    "arr = np.array([[1, 5, 2], [9, 3, 6], [7, 4, 8]])\n",
    "print(np.argmax(arr, axis=0))"
   ]
  },
  {
   "cell_type": "code",
   "execution_count": 60,
   "id": "2359d025-d0f6-4ef6-b554-5af5b4ad2bcf",
   "metadata": {},
   "outputs": [],
   "source": [
    "# 44. Apply a custom function to compute moving sum along rows."
   ]
  },
  {
   "cell_type": "code",
   "execution_count": 66,
   "id": "74ec0b10-609a-421c-8146-338bd8255c3b",
   "metadata": {},
   "outputs": [
    {
     "name": "stdout",
     "output_type": "stream",
     "text": [
      "[[ 6]\n",
      " [15]\n",
      " [24]]\n"
     ]
    }
   ],
   "source": [
    "import numpy as np\n",
    "\n",
    "def moving_sum_along_rows(x, window=3):\n",
    "    return np.convolve(x, np.ones(window, dtype=int), 'valid')\n",
    "    \n",
    "arr = np.array([[1, 2, 3], [4, 5, 6], [7, 8, 9]])\n",
    "result = np.apply_along_axis(moving_sum_along_rows, axis=1, arr=arr)\n",
    "print(result)"
   ]
  },
  {
   "cell_type": "code",
   "execution_count": 61,
   "id": "79dec17f-20dc-4168-8543-68c3c509c382",
   "metadata": {},
   "outputs": [],
   "source": [
    "# 45. Check if all elements in each column are even."
   ]
  },
  {
   "cell_type": "code",
   "execution_count": 3,
   "id": "bddf209e-3864-45ba-8623-5b83504129e9",
   "metadata": {},
   "outputs": [
    {
     "name": "stdout",
     "output_type": "stream",
     "text": [
      "[False  True False]\n"
     ]
    }
   ],
   "source": [
    "import numpy as np\n",
    "\n",
    "arr = np.array([[1, 2, 3], [4, 6, 8], [9, 12, 15]])\n",
    "result = np.all(arr % 2 == 0, axis=0)\n",
    "print(result)"
   ]
  },
  {
   "cell_type": "markdown",
   "id": "6f17848d-31ad-4775-8096-d4df55491f8b",
   "metadata": {},
   "source": [
    "Reshaping and Flattening"
   ]
  },
  {
   "cell_type": "code",
   "execution_count": 62,
   "id": "baf8cd9a-2fb5-4c23-845b-c51585ddf8f4",
   "metadata": {},
   "outputs": [],
   "source": [
    "# 46. Reshape a given array into dimensions m x n."
   ]
  },
  {
   "cell_type": "code",
   "execution_count": 5,
   "id": "cabecada-264c-4fe8-8927-bd9ccb85b872",
   "metadata": {},
   "outputs": [
    {
     "name": "stdout",
     "output_type": "stream",
     "text": [
      "[[1 2 3 4 5]\n",
      " [6 7 8 9 0]]\n"
     ]
    }
   ],
   "source": [
    "import numpy as np\n",
    "\n",
    "arr = np.array([1, 2, 3, 4, 5, 6, 7, 8, 9, 0])\n",
    "print(arr.reshape(2, 5))"
   ]
  },
  {
   "cell_type": "code",
   "execution_count": 63,
   "id": "51874ec8-ee45-4a9f-8bcf-247d48903e5d",
   "metadata": {},
   "outputs": [],
   "source": [
    "# 47. Return a flattened version of a given matrix."
   ]
  },
  {
   "cell_type": "code",
   "execution_count": 8,
   "id": "eae2352f-2080-4a57-97bc-76db4ce81d30",
   "metadata": {},
   "outputs": [
    {
     "name": "stdout",
     "output_type": "stream",
     "text": [
      "[1 2 3 4 5 6 7 8 9]\n"
     ]
    }
   ],
   "source": [
    "import numpy as np\n",
    "\n",
    "arr = np.array([[1, 2, 3], [4, 5, 6], [7, 8, 9]])\n",
    "print(arr.reshape(-1))"
   ]
  },
  {
   "cell_type": "code",
   "execution_count": 50,
   "id": "03c6b255-33b9-4c7c-bd42-2953bdd3451e",
   "metadata": {},
   "outputs": [],
   "source": [
    "# 48. Concatenate two arrays along a specified axis."
   ]
  },
  {
   "cell_type": "code",
   "execution_count": 11,
   "id": "75de0279-0ed0-453e-95c1-2d4d0172f2c6",
   "metadata": {},
   "outputs": [
    {
     "name": "stdout",
     "output_type": "stream",
     "text": [
      "[[1 2]\n",
      " [3 4]\n",
      " [5 6]\n",
      " [7 8]] \n",
      "\n",
      " [[1 2 5 6]\n",
      " [3 4 7 8]]\n"
     ]
    }
   ],
   "source": [
    "import numpy as np\n",
    "\n",
    "arr = np.array([[1, 2], [3, 4]])\n",
    "arr2 = np.array([[5, 6], [7, 8]])\n",
    "print(np.concatenate((arr, arr2), axis=0), '\\n\\n', np.concatenate((arr, arr2), axis=1))"
   ]
  },
  {
   "cell_type": "code",
   "execution_count": 51,
   "id": "2f0c60ce-7949-4d81-80fc-ace7f01e73d0",
   "metadata": {},
   "outputs": [],
   "source": [
    "# 49. Split an array into sub-arrays along a specified axis."
   ]
  },
  {
   "cell_type": "code",
   "execution_count": 14,
   "id": "de150b5e-2920-4b09-90a9-113ca1da0760",
   "metadata": {},
   "outputs": [
    {
     "name": "stdout",
     "output_type": "stream",
     "text": [
      "[array([[1, 2, 3]]), array([[4, 5, 6]]), array([[7, 8, 9]])] \n",
      "\n",
      " [array([[1],\n",
      "       [4],\n",
      "       [7]]), array([[2],\n",
      "       [5],\n",
      "       [8]]), array([[3],\n",
      "       [6],\n",
      "       [9]])]\n"
     ]
    }
   ],
   "source": [
    "import numpy as np\n",
    "arr = np.array([[1, 2, 3],[4, 5, 6],[7, 8, 9]])\n",
    "result_along_rows = np.split(arr, 3, axis=0)\n",
    "result_along_columns = np.split(arr, 3, axis=1)\n",
    "print(result_along_rows, '\\n\\n', result_along_columns)"
   ]
  },
  {
   "cell_type": "code",
   "execution_count": 52,
   "id": "55ea8ae6-d079-4d72-9ab7-619eaa6ed9bc",
   "metadata": {},
   "outputs": [],
   "source": [
    "# 50. Insert and delete elements at specified indices from an array."
   ]
  },
  {
   "cell_type": "code",
   "execution_count": 16,
   "id": "516491ce-ed03-426f-ab8e-caafc0584d20",
   "metadata": {},
   "outputs": [
    {
     "name": "stdout",
     "output_type": "stream",
     "text": [
      "[ 0  1  2  3  4  5  6  7  8  9 10] \n",
      "\n",
      " [1 2 3 4 5 6 7 8 9]\n"
     ]
    }
   ],
   "source": [
    "import numpy as np\n",
    "\n",
    "arr = np.array([0, 1, 2, 3, 4, 5, 6, 7, 8, 9])\n",
    "print(np.insert(arr, 10, 10), '\\n\\n', np.delete(arr, 0))"
   ]
  },
  {
   "cell_type": "markdown",
   "id": "dc68dd13-6915-4a74-a265-861a96b07986",
   "metadata": {},
   "source": [
    "Element-wise Operations"
   ]
  },
  {
   "cell_type": "code",
   "execution_count": 53,
   "id": "4ccfccff-e591-42ea-b50a-8211a5857d21",
   "metadata": {},
   "outputs": [],
   "source": [
    "# 51. Perform element-wise addition between two arrays."
   ]
  },
  {
   "cell_type": "code",
   "execution_count": 17,
   "id": "50215836-5962-4697-9ab3-9b38dbf4bcff",
   "metadata": {},
   "outputs": [
    {
     "name": "stdout",
     "output_type": "stream",
     "text": [
      "[ 7  9 11 13  5]\n"
     ]
    }
   ],
   "source": [
    "import numpy as np\n",
    "\n",
    "arr = np.array([1, 2, 3, 4, 5])\n",
    "arr2 = np.array([6, 7, 8, 9, 0])\n",
    "print(arr + arr2)"
   ]
  },
  {
   "cell_type": "code",
   "execution_count": 54,
   "id": "8e73148f-7533-4505-9a82-1c0195013e24",
   "metadata": {},
   "outputs": [],
   "source": [
    "# 52. Perform element-wise subtraction: subtract arr2 from arr1."
   ]
  },
  {
   "cell_type": "code",
   "execution_count": 18,
   "id": "14cc00b7-2fe3-4c47-b3b7-182bcc2d7d77",
   "metadata": {},
   "outputs": [
    {
     "name": "stdout",
     "output_type": "stream",
     "text": [
      "[ 5  5  5  5 -5]\n"
     ]
    }
   ],
   "source": [
    "import numpy as np\n",
    "\n",
    "arr1 = np.array([6, 7, 8, 9, 0])\n",
    "arr2 = np.array([1, 2, 3, 4, 5])\n",
    "print(arr1 - arr2)"
   ]
  },
  {
   "cell_type": "code",
   "execution_count": 55,
   "id": "1e53ff88-25f7-4cd0-ae2f-058e497c3997",
   "metadata": {},
   "outputs": [],
   "source": [
    "# 53. Perform element-wise multiplication."
   ]
  },
  {
   "cell_type": "code",
   "execution_count": 19,
   "id": "4bcac9c8-0194-4653-bbf3-bb4a714ed7f1",
   "metadata": {},
   "outputs": [
    {
     "name": "stdout",
     "output_type": "stream",
     "text": [
      "[ 6 14 24 36  0]\n"
     ]
    }
   ],
   "source": [
    "import numpy as np\n",
    "\n",
    "arr = np.array([1, 2, 3, 4, 5])\n",
    "arr2 = np.array([6, 7, 8, 9, 0])\n",
    "print(arr * arr2)"
   ]
  },
  {
   "cell_type": "code",
   "execution_count": 56,
   "id": "076a03ec-e4d6-4b52-934c-0b82b26f3031",
   "metadata": {},
   "outputs": [],
   "source": [
    "# 54. Divide elements of arr1 by arr2 element-wise."
   ]
  },
  {
   "cell_type": "code",
   "execution_count": 20,
   "id": "bc57f188-9b4a-4621-ab58-f35cf3d8c2b8",
   "metadata": {},
   "outputs": [
    {
     "name": "stdout",
     "output_type": "stream",
     "text": [
      "[6.         3.5        2.66666667 2.25       0.        ]\n"
     ]
    }
   ],
   "source": [
    "import numpy as np\n",
    "\n",
    "arr1 = np.array([6, 7, 8, 9, 0])\n",
    "arr2 = np.array([1, 2, 3, 4, 5])\n",
    "print(arr1 / arr2)"
   ]
  },
  {
   "cell_type": "code",
   "execution_count": 57,
   "id": "58119baf-e72b-49f8-a40d-eb6f7ea83cd8",
   "metadata": {},
   "outputs": [],
   "source": [
    "# 55. Perform element-wise exponentiation: arr1 ** arr2."
   ]
  },
  {
   "cell_type": "code",
   "execution_count": 21,
   "id": "a17f1a83-4113-41f9-bc27-a590348df522",
   "metadata": {},
   "outputs": [
    {
     "name": "stdout",
     "output_type": "stream",
     "text": [
      "[     1    128   6561 262144      1]\n"
     ]
    }
   ],
   "source": [
    "import numpy as np\n",
    "\n",
    "arr1 = np.array([1, 2, 3, 4, 5])\n",
    "arr2 = np.array([6, 7, 8, 9, 0])\n",
    "print(arr1 ** arr2)"
   ]
  },
  {
   "cell_type": "markdown",
   "id": "0a796ac4-3a46-4fbd-9a5c-51adb4a39095",
   "metadata": {},
   "source": [
    "String Operations"
   ]
  },
  {
   "cell_type": "code",
   "execution_count": 58,
   "id": "30a351d4-07a2-4807-960f-b0845f268c88",
   "metadata": {},
   "outputs": [],
   "source": [
    "# 56. Count occurrences of a substring in a string array."
   ]
  },
  {
   "cell_type": "code",
   "execution_count": 24,
   "id": "ee8fb2e8-e9cd-4a72-a8bc-c77eda1831eb",
   "metadata": {},
   "outputs": [
    {
     "name": "stdout",
     "output_type": "stream",
     "text": [
      "[0 1 0 1 2]\n"
     ]
    }
   ],
   "source": [
    "import numpy as np\n",
    "\n",
    "arr = np.array(['apple', 'rubber', 'hyper', 'blackberry', 'cyber fiber'])\n",
    "substring_value = 'ber'\n",
    "print(np.char.count(arr, substring_value))"
   ]
  },
  {
   "cell_type": "code",
   "execution_count": 59,
   "id": "048135a6-5a4e-45e7-a23e-c83e5b48b142",
   "metadata": {},
   "outputs": [],
   "source": [
    "# 57. Extract uppercase characters from a string array."
   ]
  },
  {
   "cell_type": "code",
   "execution_count": 26,
   "id": "a38f9b3a-6278-442c-9f32-a27c7de35896",
   "metadata": {},
   "outputs": [
    {
     "name": "stdout",
     "output_type": "stream",
     "text": [
      "['H', 'HAY', 'IAMFINE', 'BYE']\n"
     ]
    }
   ],
   "source": [
    "import numpy as np\n",
    "\n",
    "words = np.array(['Hello', 'How Are You?', 'I AM FINE', 'BYE'])\n",
    "result = [''.join([char for char in word if char.isupper()]) for word in words]\n",
    "print(result)"
   ]
  },
  {
   "cell_type": "code",
   "execution_count": 60,
   "id": "fc483576-76bc-4586-b1f0-c8f423ccd141",
   "metadata": {},
   "outputs": [],
   "source": [
    "# 58. Replace substring occurrences with another string in a string array."
   ]
  },
  {
   "cell_type": "code",
   "execution_count": 27,
   "id": "accbbfde-b24f-406c-b6f4-cd967eb050fc",
   "metadata": {},
   "outputs": [
    {
     "name": "stdout",
     "output_type": "stream",
     "text": [
      "['apple' 'rubna' 'hyper' 'blacknary' 'cyna fina']\n"
     ]
    }
   ],
   "source": [
    "import numpy as np\n",
    "\n",
    "arr = np.array(['apple', 'rubber', 'hyper', 'blackberry', 'cyber fiber'])\n",
    "substring_value = 'ber'\n",
    "new_substring_value = 'na'\n",
    "print(np.char.replace(arr, substring_value, new_substring_value))"
   ]
  },
  {
   "cell_type": "code",
   "execution_count": 61,
   "id": "52a394eb-d68a-4840-b771-d2f692bd89a8",
   "metadata": {},
   "outputs": [],
   "source": [
    "# 59. Concatenate strings in a NumPy array element-wise."
   ]
  },
  {
   "cell_type": "code",
   "execution_count": 31,
   "id": "9361641b-8385-4267-b573-ef406a09ecc6",
   "metadata": {},
   "outputs": [
    {
     "name": "stdout",
     "output_type": "stream",
     "text": [
      "['HelloWorld!' 'WelcomeToPython' 'LearnAI']\n"
     ]
    }
   ],
   "source": [
    "import numpy as np\n",
    "\n",
    "arr = np.array(['Hello', 'WelcomeTo', 'Learn'])\n",
    "arr2 = np.array(['World!', 'Python', 'AI'])\n",
    "print(np.char.add(arr, arr2))"
   ]
  },
  {
   "cell_type": "code",
   "execution_count": 62,
   "id": "c1dc20a5-6ff2-4dcf-9fc7-ac0e1de99efc",
   "metadata": {},
   "outputs": [],
   "source": [
    "# 60. Find the length of the longest string in a string array."
   ]
  },
  {
   "cell_type": "code",
   "execution_count": 32,
   "id": "b5b01ccb-aa98-4b01-906d-c6672fbeedbe",
   "metadata": {},
   "outputs": [
    {
     "name": "stdout",
     "output_type": "stream",
     "text": [
      "9\n"
     ]
    }
   ],
   "source": [
    "import numpy as np\n",
    "\n",
    "arr = np.array(['Hello', 'World!', 'WelcomeTo', 'Python', 'Learn', 'AI'])\n",
    "print(np.max(np.char.str_len(arr)))"
   ]
  },
  {
   "cell_type": "markdown",
   "id": "016424f0-888a-4e93-abb1-9a8936a1e710",
   "metadata": {},
   "source": [
    "Descriptive Statistics"
   ]
  },
  {
   "cell_type": "code",
   "execution_count": 63,
   "id": "d10e2007-91b2-494d-b99c-00232dbe8219",
   "metadata": {},
   "outputs": [],
   "source": [
    "# 61. Generate 100 random integers (1–1000) and compute mean, median, variance, and std deviation."
   ]
  },
  {
   "cell_type": "code",
   "execution_count": 46,
   "id": "662896fe-c299-4b85-9a80-cf86e3bc0ed0",
   "metadata": {},
   "outputs": [
    {
     "name": "stdout",
     "output_type": "stream",
     "text": [
      "[794 116 787 118 565  83 398 251 848 257 104 726 751  24 792 493 947 428\n",
      " 827 106 688 371 655 375 920 691 595  74  13 233 343 789  67 489 563 679\n",
      " 208 369 523 875 993 411 875 353 544 837 378 114 363 335 915 322   9 499\n",
      " 149 968 908 331 458 472 312 919 990  12  22  84 175 694 926 518 516 316\n",
      " 816 168 353 748 146 539 504 328 531 694  84 275  32 534 625 204 772 615\n",
      " 900 112 844 243 790 964  73 785 817 884] \n",
      "\n",
      "490.33 \n",
      "\n",
      "496.0 \n",
      "\n",
      "89138.8611 \n",
      "\n",
      "298.56131882747303\n"
     ]
    }
   ],
   "source": [
    "import numpy as np\n",
    "\n",
    "data = np.random.randint(1, 1001, size=100)\n",
    "print(data, '\\n')\n",
    "print(np.mean(data), '\\n')\n",
    "print(np.median(data), '\\n')\n",
    "print(np.var(data), '\\n')\n",
    "print(np.std(data))"
   ]
  },
  {
   "cell_type": "code",
   "execution_count": 64,
   "id": "7e0a3edc-4ac4-4c06-bf80-8e9dbc28f476",
   "metadata": {},
   "outputs": [],
   "source": [
    "# 62. Generate 50 random numbers (1–100) and compute the 25th and 75th percentiles."
   ]
  },
  {
   "cell_type": "code",
   "execution_count": 45,
   "id": "70b75e40-c983-4c50-9ef2-bbedc62b3032",
   "metadata": {},
   "outputs": [
    {
     "name": "stdout",
     "output_type": "stream",
     "text": [
      "[72 54 41 85 59 76 38  8 32 69 43 88 22 89  7 83 51 26 41 70 83 25 82 77\n",
      " 65 58 20 19 25 46 96 52 27 46 36 95 41 21 86 28 11 82 17 12 51 70 64  8\n",
      " 72 95] \n",
      "\n",
      "26.25 \n",
      "\n",
      "75.0\n"
     ]
    }
   ],
   "source": [
    "import numpy as np\n",
    "\n",
    "data = np.random.randint(1, 101, size=50)\n",
    "print(data, '\\n')\n",
    "print(np.percentile(data, 25), '\\n')\n",
    "print(np.percentile(data, 75))"
   ]
  },
  {
   "cell_type": "code",
   "execution_count": 65,
   "id": "1940e940-7e7f-4d90-be9d-9b166c661276",
   "metadata": {},
   "outputs": [],
   "source": [
    "# 63. Compute correlation coefficient between two arrays using np.corrcoef."
   ]
  },
  {
   "cell_type": "code",
   "execution_count": 44,
   "id": "9115b673-ef60-449e-9f5a-b875d7ee54eb",
   "metadata": {},
   "outputs": [
    {
     "name": "stdout",
     "output_type": "stream",
     "text": [
      "[[1. 1.]\n",
      " [1. 1.]] \n",
      "\n",
      "1.0\n"
     ]
    }
   ],
   "source": [
    "import numpy as np\n",
    "\n",
    "arr = np.array([1, 2, 3])\n",
    "arr2 = np.array([4, 6, 8])\n",
    "print(np.corrcoef(arr, arr2), '\\n')\n",
    "print(np.corrcoef(arr, arr2)[0, 1])"
   ]
  },
  {
   "cell_type": "code",
   "execution_count": 66,
   "id": "3806ae61-4c41-4749-9fcd-d2203195677b",
   "metadata": {},
   "outputs": [],
   "source": [
    "# 64. Perform matrix multiplication using np.dot."
   ]
  },
  {
   "cell_type": "code",
   "execution_count": 47,
   "id": "05f76b98-f375-4f4e-adad-e1b90da152c0",
   "metadata": {},
   "outputs": [
    {
     "name": "stdout",
     "output_type": "stream",
     "text": [
      "[[19 22]\n",
      " [43 50]]\n"
     ]
    }
   ],
   "source": [
    "import numpy as np\n",
    "\n",
    "arr = np.array([[1, 2], [3, 4]])\n",
    "arr2 = np.array([[5, 6], [7, 8]])\n",
    "print(np.dot(arr, arr2))"
   ]
  },
  {
   "cell_type": "code",
   "execution_count": 67,
   "id": "ab839d91-4d5a-4c9b-8cf2-fc11366d11e2",
   "metadata": {},
   "outputs": [],
   "source": [
    "# 65. Compute the 10th, 50th, and 90th percentiles and quartiles for an array of 50 integers."
   ]
  },
  {
   "cell_type": "code",
   "execution_count": 48,
   "id": "5e8ad003-7f50-479a-94fd-4c2865fb5066",
   "metadata": {},
   "outputs": [
    {
     "name": "stdout",
     "output_type": "stream",
     "text": [
      "[92 48 35 32 50 42 16 96 31 30 18 72 82  6 17 26 91 95 21 55 18 76 81 69\n",
      " 81 63 38 69  9 36 64 53 89 31 13 77 78 63 27 50 28 50 35  6 49 52 38 86\n",
      " 93  9] \n",
      "\n",
      "15.700000000000001 \n",
      "\n",
      "49.5 \n",
      "\n",
      "89.2 \n",
      "\n",
      "28.5 \n",
      "\n",
      "75.0\n"
     ]
    }
   ],
   "source": [
    "import numpy as np\n",
    "\n",
    "data = np.random.randint(1, 101, size=50)\n",
    "\n",
    "p10 = np.percentile(data, 10)\n",
    "p50 = np.percentile(data, 50)\n",
    "p90 = np.percentile(data, 90)\n",
    "\n",
    "q1 = np.percentile(data, 25)\n",
    "q3 = np.percentile(data, 75)\n",
    "\n",
    "print(data, '\\n')\n",
    "print(np.percentile(data, 10), '\\n')\n",
    "print(np.percentile(data, 50), '\\n')\n",
    "print(np.percentile(data, 90), '\\n')\n",
    "print(np.percentile(data, 25), '\\n')\n",
    "print(np.percentile(data, 75))"
   ]
  },
  {
   "cell_type": "markdown",
   "id": "54262320-9286-4dba-88c1-dda7189e5c7e",
   "metadata": {},
   "source": [
    "Search and Sort"
   ]
  },
  {
   "cell_type": "code",
   "execution_count": 68,
   "id": "7e1fd900-51fe-40e3-9a0c-bdf9c07469dd",
   "metadata": {},
   "outputs": [],
   "source": [
    "# 66. Find index of a specific element in an array."
   ]
  },
  {
   "cell_type": "code",
   "execution_count": 51,
   "id": "9696459d-a4e6-4cd5-b43d-895d06f2f18a",
   "metadata": {},
   "outputs": [
    {
     "name": "stdout",
     "output_type": "stream",
     "text": [
      "1\n"
     ]
    }
   ],
   "source": [
    "import numpy as np\n",
    "\n",
    "arr = np.array([0, 1, 1, 2, 3, 5, 8])\n",
    "print(np.where(arr == 1)[0][0])"
   ]
  },
  {
   "cell_type": "code",
   "execution_count": 69,
   "id": "ad7e5445-3783-4f50-8d8f-7f860765639c",
   "metadata": {},
   "outputs": [],
   "source": [
    "# 67. Sort a random array in ascending order."
   ]
  },
  {
   "cell_type": "code",
   "execution_count": 53,
   "id": "0dcc4cd3-a72a-4348-aaa1-490398e55baa",
   "metadata": {},
   "outputs": [
    {
     "name": "stdout",
     "output_type": "stream",
     "text": [
      "[ 8 12  5 14  7  8  7  4  2  4  1 17 18  9  7 18  3 15  6 20] \n",
      "\n",
      "[ 1  2  3  4  4  5  6  7  7  7  8  8  9 12 14 15 17 18 18 20]\n"
     ]
    }
   ],
   "source": [
    "import numpy as np\n",
    "\n",
    "arr = np.random.randint(1, 21, size=20)\n",
    "print(arr, '\\n')\n",
    "print(np.sort(arr))"
   ]
  },
  {
   "cell_type": "code",
   "execution_count": 70,
   "id": "72e4f539-272e-4243-9057-684df600a218",
   "metadata": {},
   "outputs": [],
   "source": [
    "# 68. Filter elements greater than 20."
   ]
  },
  {
   "cell_type": "code",
   "execution_count": 55,
   "id": "c542abb9-a71a-425a-845f-54873d446bce",
   "metadata": {},
   "outputs": [
    {
     "name": "stdout",
     "output_type": "stream",
     "text": [
      "[30 17 36  6 28 31  1  1 48 43 44 36 21 48 12 37 11 27 25 14] \n",
      "\n",
      "[30 36 28 31 48 43 44 36 21 48 37 27 25]\n"
     ]
    }
   ],
   "source": [
    "import numpy as np\n",
    "\n",
    "arr = np.random.randint(1, 51, size=20)\n",
    "print(arr, '\\n')\n",
    "print(arr[arr > 20])"
   ]
  },
  {
   "cell_type": "code",
   "execution_count": 71,
   "id": "ae3f9cce-3be9-4b3b-a62a-f9af62d28961",
   "metadata": {},
   "outputs": [],
   "source": [
    "# 69. Filter elements divisible by 3."
   ]
  },
  {
   "cell_type": "code",
   "execution_count": 56,
   "id": "12dd30df-d4bd-4842-9a4d-d1fedb53f03a",
   "metadata": {},
   "outputs": [
    {
     "name": "stdout",
     "output_type": "stream",
     "text": [
      "[12 23 30 26 13 31 12 20 42 43 22 12 47  4 40 17 33 41 34  7] \n",
      "\n",
      "[12 30 12 42 12 33]\n"
     ]
    }
   ],
   "source": [
    "import numpy as np\n",
    "\n",
    "arr = np.random.randint(1, 51, size=20)\n",
    "print(arr, '\\n')\n",
    "print(arr[arr % 3 == 0])"
   ]
  },
  {
   "cell_type": "code",
   "execution_count": 72,
   "id": "f3dc5e81-36e5-4af9-befb-a86298e8ad5c",
   "metadata": {},
   "outputs": [],
   "source": [
    "# 70. Filter elements between 20 and 40 (inclusive)."
   ]
  },
  {
   "cell_type": "code",
   "execution_count": 57,
   "id": "49c40bc4-7741-4fa9-bd4e-2c772f3e5c41",
   "metadata": {},
   "outputs": [
    {
     "name": "stdout",
     "output_type": "stream",
     "text": [
      "[31 15 10 26 31 36 18  6 46  6 36 25  9 50 36  5 47 39  6 44] \n",
      "\n",
      "[31 26 31 36 36 25 36 39]\n"
     ]
    }
   ],
   "source": [
    "import numpy as np\n",
    "\n",
    "arr = np.random.randint(1, 51, size=20)\n",
    "print(arr, '\\n')\n",
    "print(arr[(arr >= 20) & (arr <= 40)])"
   ]
  },
  {
   "cell_type": "markdown",
   "id": "b0f47446-cbeb-4176-b037-ea737ba8351f",
   "metadata": {},
   "source": [
    "Byte Order & Swapping"
   ]
  },
  {
   "cell_type": "code",
   "execution_count": 58,
   "id": "14f919d8-760e-45c5-8d09-414c6104c5fa",
   "metadata": {},
   "outputs": [],
   "source": [
    "# 71. Check byte order of a NumPy array using dtype.byteorder."
   ]
  },
  {
   "cell_type": "code",
   "execution_count": 35,
   "id": "8ca860b8-962a-4d9d-9064-1e1ddec2565a",
   "metadata": {},
   "outputs": [
    {
     "name": "stdout",
     "output_type": "stream",
     "text": [
      "=\n"
     ]
    }
   ],
   "source": [
    "import numpy as np\n",
    "\n",
    "arr = np.array([1, 2, 3, 4, 5, 6, 7, 8, 9])\n",
    "print(arr.dtype.byteorder)"
   ]
  },
  {
   "cell_type": "code",
   "execution_count": 59,
   "id": "58627dc2-2554-45bb-a730-48330449acc6",
   "metadata": {},
   "outputs": [],
   "source": [
    "# 72. Perform in-place byte swapping using byteswap()."
   ]
  },
  {
   "cell_type": "code",
   "execution_count": 39,
   "id": "07bb6c85-0ceb-4cf6-8f61-1f62781c3ded",
   "metadata": {},
   "outputs": [
    {
     "name": "stdout",
     "output_type": "stream",
     "text": [
      "[  67108864 1073741824   33554432  134217728      65536]\n"
     ]
    }
   ],
   "source": [
    "import numpy as np\n",
    "\n",
    "arr = np.array([4, 64, 2, 8, 256])\n",
    "arr.byteswap(inplace=True)\n",
    "print(arr)"
   ]
  }
 ],
 "metadata": {
  "kernelspec": {
   "display_name": "Python [conda env:base] *",
   "language": "python",
   "name": "conda-base-py"
  },
  "language_info": {
   "codemirror_mode": {
    "name": "ipython",
    "version": 3
   },
   "file_extension": ".py",
   "mimetype": "text/x-python",
   "name": "python",
   "nbconvert_exporter": "python",
   "pygments_lexer": "ipython3",
   "version": "3.12.7"
  }
 },
 "nbformat": 4,
 "nbformat_minor": 5
}
